{
 "cells": [
  {
   "cell_type": "markdown",
   "metadata": {},
   "source": [
    "# Digit-Recognition with Artificial Neural Networks using `Tensorflow`"
   ]
  },
  {
   "cell_type": "code",
   "execution_count": 1,
   "metadata": {
    "_cell_guid": "b1076dfc-b9ad-4769-8c92-a6c4dae69d19",
    "_uuid": "8f2839f25d086af736a60e9eeb907d3b93b6e0e5",
    "execution": {
     "iopub.execute_input": "2022-03-04T16:15:52.222740Z",
     "iopub.status.busy": "2022-03-04T16:15:52.222253Z",
     "iopub.status.idle": "2022-03-04T16:15:56.472867Z",
     "shell.execute_reply": "2022-03-04T16:15:56.472129Z",
     "shell.execute_reply.started": "2022-03-04T16:15:52.222643Z"
    }
   },
   "outputs": [],
   "source": [
    "import tensorflow as tf\n",
    "import numpy as np\n",
    "import pandas as pd\n",
    "import matplotlib.pyplot as plt"
   ]
  },
  {
   "cell_type": "code",
   "execution_count": 2,
   "metadata": {
    "execution": {
     "iopub.execute_input": "2022-03-04T16:15:56.475515Z",
     "iopub.status.busy": "2022-03-04T16:15:56.475318Z",
     "iopub.status.idle": "2022-03-04T16:15:57.325972Z",
     "shell.execute_reply": "2022-03-04T16:15:57.325208Z",
     "shell.execute_reply.started": "2022-03-04T16:15:56.475490Z"
    }
   },
   "outputs": [],
   "source": [
    "from tensorflow.keras.datasets import mnist"
   ]
  },
  {
   "cell_type": "code",
   "execution_count": null,
   "metadata": {},
   "outputs": [],
   "source": [
    "### some coding to undrestand better our dataset"
   ]
  },
  {
   "cell_type": "code",
   "execution_count": 3,
   "metadata": {
    "execution": {
     "iopub.execute_input": "2022-03-04T16:15:57.329391Z",
     "iopub.status.busy": "2022-03-04T16:15:57.329167Z",
     "iopub.status.idle": "2022-03-04T16:15:57.959122Z",
     "shell.execute_reply": "2022-03-04T16:15:57.958398Z",
     "shell.execute_reply.started": "2022-03-04T16:15:57.329365Z"
    }
   },
   "outputs": [
    {
     "name": "stdout",
     "output_type": "stream",
     "text": [
      "Downloading data from https://storage.googleapis.com/tensorflow/tf-keras-datasets/mnist.npz\n",
      "11493376/11490434 [==============================] - 0s 0us/step\n",
      "11501568/11490434 [==============================] - 0s 0us/step\n"
     ]
    }
   ],
   "source": [
    "(X_train, y_train), (X_test, y_test) = mnist.load_data()"
   ]
  },
  {
   "cell_type": "markdown",
   "metadata": {},
   "source": [
    "* see first item of X_train and y_train *"
   ]
  },
  {
   "cell_type": "code",
   "execution_count": 4,
   "metadata": {
    "execution": {
     "iopub.execute_input": "2022-03-04T16:15:57.961484Z",
     "iopub.status.busy": "2022-03-04T16:15:57.961211Z",
     "iopub.status.idle": "2022-03-04T16:15:57.973633Z",
     "shell.execute_reply": "2022-03-04T16:15:57.972803Z",
     "shell.execute_reply.started": "2022-03-04T16:15:57.961449Z"
    }
   },
   "outputs": [
    {
     "data": {
      "text/plain": [
       "(array([[  0,   0,   0,   0,   0,   0,   0,   0,   0,   0,   0,   0,   0,\n",
       "           0,   0,   0,   0,   0,   0,   0,   0,   0,   0,   0,   0,   0,\n",
       "           0,   0],\n",
       "        [  0,   0,   0,   0,   0,   0,   0,   0,   0,   0,   0,   0,   0,\n",
       "           0,   0,   0,   0,   0,   0,   0,   0,   0,   0,   0,   0,   0,\n",
       "           0,   0],\n",
       "        [  0,   0,   0,   0,   0,   0,   0,   0,   0,   0,   0,   0,   0,\n",
       "           0,   0,   0,   0,   0,   0,   0,   0,   0,   0,   0,   0,   0,\n",
       "           0,   0],\n",
       "        [  0,   0,   0,   0,   0,   0,   0,   0,   0,   0,   0,   0,   0,\n",
       "           0,   0,   0,   0,   0,   0,   0,   0,   0,   0,   0,   0,   0,\n",
       "           0,   0],\n",
       "        [  0,   0,   0,   0,   0,   0,   0,   0,   0,   0,   0,   0,   0,\n",
       "           0,   0,   0,   0,   0,   0,   0,   0,   0,   0,   0,   0,   0,\n",
       "           0,   0],\n",
       "        [  0,   0,   0,   0,   0,   0,   0,   0,   0,   0,   0,   0,   3,\n",
       "          18,  18,  18, 126, 136, 175,  26, 166, 255, 247, 127,   0,   0,\n",
       "           0,   0],\n",
       "        [  0,   0,   0,   0,   0,   0,   0,   0,  30,  36,  94, 154, 170,\n",
       "         253, 253, 253, 253, 253, 225, 172, 253, 242, 195,  64,   0,   0,\n",
       "           0,   0],\n",
       "        [  0,   0,   0,   0,   0,   0,   0,  49, 238, 253, 253, 253, 253,\n",
       "         253, 253, 253, 253, 251,  93,  82,  82,  56,  39,   0,   0,   0,\n",
       "           0,   0],\n",
       "        [  0,   0,   0,   0,   0,   0,   0,  18, 219, 253, 253, 253, 253,\n",
       "         253, 198, 182, 247, 241,   0,   0,   0,   0,   0,   0,   0,   0,\n",
       "           0,   0],\n",
       "        [  0,   0,   0,   0,   0,   0,   0,   0,  80, 156, 107, 253, 253,\n",
       "         205,  11,   0,  43, 154,   0,   0,   0,   0,   0,   0,   0,   0,\n",
       "           0,   0],\n",
       "        [  0,   0,   0,   0,   0,   0,   0,   0,   0,  14,   1, 154, 253,\n",
       "          90,   0,   0,   0,   0,   0,   0,   0,   0,   0,   0,   0,   0,\n",
       "           0,   0],\n",
       "        [  0,   0,   0,   0,   0,   0,   0,   0,   0,   0,   0, 139, 253,\n",
       "         190,   2,   0,   0,   0,   0,   0,   0,   0,   0,   0,   0,   0,\n",
       "           0,   0],\n",
       "        [  0,   0,   0,   0,   0,   0,   0,   0,   0,   0,   0,  11, 190,\n",
       "         253,  70,   0,   0,   0,   0,   0,   0,   0,   0,   0,   0,   0,\n",
       "           0,   0],\n",
       "        [  0,   0,   0,   0,   0,   0,   0,   0,   0,   0,   0,   0,  35,\n",
       "         241, 225, 160, 108,   1,   0,   0,   0,   0,   0,   0,   0,   0,\n",
       "           0,   0],\n",
       "        [  0,   0,   0,   0,   0,   0,   0,   0,   0,   0,   0,   0,   0,\n",
       "          81, 240, 253, 253, 119,  25,   0,   0,   0,   0,   0,   0,   0,\n",
       "           0,   0],\n",
       "        [  0,   0,   0,   0,   0,   0,   0,   0,   0,   0,   0,   0,   0,\n",
       "           0,  45, 186, 253, 253, 150,  27,   0,   0,   0,   0,   0,   0,\n",
       "           0,   0],\n",
       "        [  0,   0,   0,   0,   0,   0,   0,   0,   0,   0,   0,   0,   0,\n",
       "           0,   0,  16,  93, 252, 253, 187,   0,   0,   0,   0,   0,   0,\n",
       "           0,   0],\n",
       "        [  0,   0,   0,   0,   0,   0,   0,   0,   0,   0,   0,   0,   0,\n",
       "           0,   0,   0,   0, 249, 253, 249,  64,   0,   0,   0,   0,   0,\n",
       "           0,   0],\n",
       "        [  0,   0,   0,   0,   0,   0,   0,   0,   0,   0,   0,   0,   0,\n",
       "           0,  46, 130, 183, 253, 253, 207,   2,   0,   0,   0,   0,   0,\n",
       "           0,   0],\n",
       "        [  0,   0,   0,   0,   0,   0,   0,   0,   0,   0,   0,   0,  39,\n",
       "         148, 229, 253, 253, 253, 250, 182,   0,   0,   0,   0,   0,   0,\n",
       "           0,   0],\n",
       "        [  0,   0,   0,   0,   0,   0,   0,   0,   0,   0,  24, 114, 221,\n",
       "         253, 253, 253, 253, 201,  78,   0,   0,   0,   0,   0,   0,   0,\n",
       "           0,   0],\n",
       "        [  0,   0,   0,   0,   0,   0,   0,   0,  23,  66, 213, 253, 253,\n",
       "         253, 253, 198,  81,   2,   0,   0,   0,   0,   0,   0,   0,   0,\n",
       "           0,   0],\n",
       "        [  0,   0,   0,   0,   0,   0,  18, 171, 219, 253, 253, 253, 253,\n",
       "         195,  80,   9,   0,   0,   0,   0,   0,   0,   0,   0,   0,   0,\n",
       "           0,   0],\n",
       "        [  0,   0,   0,   0,  55, 172, 226, 253, 253, 253, 253, 244, 133,\n",
       "          11,   0,   0,   0,   0,   0,   0,   0,   0,   0,   0,   0,   0,\n",
       "           0,   0],\n",
       "        [  0,   0,   0,   0, 136, 253, 253, 253, 212, 135, 132,  16,   0,\n",
       "           0,   0,   0,   0,   0,   0,   0,   0,   0,   0,   0,   0,   0,\n",
       "           0,   0],\n",
       "        [  0,   0,   0,   0,   0,   0,   0,   0,   0,   0,   0,   0,   0,\n",
       "           0,   0,   0,   0,   0,   0,   0,   0,   0,   0,   0,   0,   0,\n",
       "           0,   0],\n",
       "        [  0,   0,   0,   0,   0,   0,   0,   0,   0,   0,   0,   0,   0,\n",
       "           0,   0,   0,   0,   0,   0,   0,   0,   0,   0,   0,   0,   0,\n",
       "           0,   0],\n",
       "        [  0,   0,   0,   0,   0,   0,   0,   0,   0,   0,   0,   0,   0,\n",
       "           0,   0,   0,   0,   0,   0,   0,   0,   0,   0,   0,   0,   0,\n",
       "           0,   0]], dtype=uint8),\n",
       " 5)"
      ]
     },
     "execution_count": 4,
     "metadata": {},
     "output_type": "execute_result"
    }
   ],
   "source": [
    "X_train[0], y_train[0]"
   ]
  },
  {
   "cell_type": "markdown",
   "metadata": {},
   "source": [
    "#### shape of our X_train, X_test, y_train, y_test"
   ]
  },
  {
   "cell_type": "code",
   "execution_count": 5,
   "metadata": {
    "execution": {
     "iopub.execute_input": "2022-03-04T16:15:57.975238Z",
     "iopub.status.busy": "2022-03-04T16:15:57.974865Z",
     "iopub.status.idle": "2022-03-04T16:15:57.982814Z",
     "shell.execute_reply": "2022-03-04T16:15:57.981944Z",
     "shell.execute_reply.started": "2022-03-04T16:15:57.975189Z"
    }
   },
   "outputs": [
    {
     "data": {
      "text/plain": [
       "((60000, 28, 28), (10000, 28, 28), (60000,), (10000,))"
      ]
     },
     "execution_count": 5,
     "metadata": {},
     "output_type": "execute_result"
    }
   ],
   "source": [
    "X_train.shape, X_test.shape, y_train.shape, y_test.shape"
   ]
  },
  {
   "cell_type": "markdown",
   "metadata": {},
   "source": [
    "### our labels are from 0 to 9"
   ]
  },
  {
   "cell_type": "code",
   "execution_count": 6,
   "metadata": {
    "execution": {
     "iopub.execute_input": "2022-03-04T16:15:57.984919Z",
     "iopub.status.busy": "2022-03-04T16:15:57.984196Z",
     "iopub.status.idle": "2022-03-04T16:15:57.993156Z",
     "shell.execute_reply": "2022-03-04T16:15:57.992335Z",
     "shell.execute_reply.started": "2022-03-04T16:15:57.984841Z"
    }
   },
   "outputs": [
    {
     "data": {
      "text/plain": [
       "array([0, 1, 2, 3, 4, 5, 6, 7, 8, 9], dtype=uint8)"
      ]
     },
     "execution_count": 6,
     "metadata": {},
     "output_type": "execute_result"
    }
   ],
   "source": [
    "np.unique(y_train)"
   ]
  },
  {
   "cell_type": "markdown",
   "metadata": {},
   "source": [
    "### show image"
   ]
  },
  {
   "cell_type": "code",
   "execution_count": 7,
   "metadata": {
    "execution": {
     "iopub.execute_input": "2022-03-04T16:15:57.994840Z",
     "iopub.status.busy": "2022-03-04T16:15:57.994523Z",
     "iopub.status.idle": "2022-03-04T16:15:58.215061Z",
     "shell.execute_reply": "2022-03-04T16:15:58.214444Z",
     "shell.execute_reply.started": "2022-03-04T16:15:57.994805Z"
    }
   },
   "outputs": [
    {
     "data": {
      "text/plain": [
       "Text(0.5, 1.0, 'first picture')"
      ]
     },
     "execution_count": 7,
     "metadata": {},
     "output_type": "execute_result"
    },
    {
     "data": {
      "image/png": "[encoded data removed]",
      "text/plain": [
       "<Figure size 576x432 with 1 Axes>"
      ]
     },
     "metadata": {
      "needs_background": "light"
     },
     "output_type": "display_data"
    }
   ],
   "source": [
    "fig = plt.figure(figsize=(8, 6))\n",
    "plt.imshow(X_train[0], cmap=plt.cm.binary)\n",
    "plt.title('first picture')"
   ]
  },
  {
   "cell_type": "markdown",
   "metadata": {},
   "source": [
    "### randomly show 4 images with labels"
   ]
  },
  {
   "cell_type": "code",
   "execution_count": 8,
   "metadata": {
    "execution": {
     "iopub.execute_input": "2022-03-04T16:15:58.216458Z",
     "iopub.status.busy": "2022-03-04T16:15:58.216208Z",
     "iopub.status.idle": "2022-03-04T16:15:58.444556Z",
     "shell.execute_reply": "2022-03-04T16:15:58.443893Z",
     "shell.execute_reply.started": "2022-03-04T16:15:58.216425Z"
    }
   },
   "outputs": [
    {
     "data": {
      "image/png": "[encoded data removed]",
      "text/plain": [
       "<Figure size 576x432 with 4 Axes>"
      ]
     },
     "metadata": {
      "needs_background": "light"
     },
     "output_type": "display_data"
    }
   ],
   "source": [
    "import random \n",
    "fig = plt.figure(figsize=(8, 6))\n",
    "for i in range(0, 4):\n",
    "    ax = plt.subplot(2, 2, i+1)\n",
    "    random_num = random.randint(0, 100)\n",
    "    plt.imshow(X_train[random_num], cmap=plt.cm.binary)\n",
    "    plt.title(y_train[random_num])\n",
    "    plt.axis(False)"
   ]
  },
  {
   "cell_type": "markdown",
   "metadata": {},
   "source": [
    "# normalizing data!"
   ]
  },
  {
   "cell_type": "markdown",
   "metadata": {},
   "source": [
    "### we are choosing the simplest way, just divide them to 255(every picture pixel value differs from 0 to 255, so we just divide them to the max values and it is going in 0-1 range(same as MinMaxScaler))"
   ]
  },
  {
   "cell_type": "code",
   "execution_count": 9,
   "metadata": {
    "execution": {
     "iopub.execute_input": "2022-03-04T16:15:58.446238Z",
     "iopub.status.busy": "2022-03-04T16:15:58.445987Z",
     "iopub.status.idle": "2022-03-04T16:15:58.584419Z",
     "shell.execute_reply": "2022-03-04T16:15:58.583648Z",
     "shell.execute_reply.started": "2022-03-04T16:15:58.446190Z"
    }
   },
   "outputs": [],
   "source": [
    "X_train, X_test = X_train / 255, X_test / 255"
   ]
  },
  {
   "cell_type": "markdown",
   "metadata": {},
   "source": [
    "***correctly in 0-1!***"
   ]
  },
  {
   "cell_type": "code",
   "execution_count": 10,
   "metadata": {
    "execution": {
     "iopub.execute_input": "2022-03-04T16:15:58.587971Z",
     "iopub.status.busy": "2022-03-04T16:15:58.587705Z",
     "iopub.status.idle": "2022-03-04T16:15:58.630824Z",
     "shell.execute_reply": "2022-03-04T16:15:58.630011Z",
     "shell.execute_reply.started": "2022-03-04T16:15:58.587935Z"
    }
   },
   "outputs": [
    {
     "data": {
      "text/plain": [
       "(1.0, 0.0)"
      ]
     },
     "execution_count": 10,
     "metadata": {},
     "output_type": "execute_result"
    }
   ],
   "source": [
    "X_train.max(), X_test.min()"
   ]
  },
  {
   "cell_type": "markdown",
   "metadata": {},
   "source": [
    "# building our model"
   ]
  },
  {
   "cell_type": "code",
   "execution_count": 11,
   "metadata": {
    "execution": {
     "iopub.execute_input": "2022-03-04T16:15:58.632579Z",
     "iopub.status.busy": "2022-03-04T16:15:58.632316Z",
     "iopub.status.idle": "2022-03-04T16:17:23.898869Z",
     "shell.execute_reply": "2022-03-04T16:17:23.897771Z",
     "shell.execute_reply.started": "2022-03-04T16:15:58.632535Z"
    }
   },
   "outputs": [
    {
     "name": "stderr",
     "output_type": "stream",
     "text": [
      "2022-03-04 16:15:58.703658: I tensorflow/stream_executor/cuda/cuda_gpu_executor.cc:937] successful NUMA node read from SysFS had negative value (-1), but there must be at least one NUMA node, so returning NUMA node zero\n",
      "2022-03-04 16:15:58.805722: I tensorflow/stream_executor/cuda/cuda_gpu_executor.cc:937] successful NUMA node read from SysFS had negative value (-1), but there must be at least one NUMA node, so returning NUMA node zero\n",
      "2022-03-04 16:15:58.806479: I tensorflow/stream_executor/cuda/cuda_gpu_executor.cc:937] successful NUMA node read from SysFS had negative value (-1), but there must be at least one NUMA node, so returning NUMA node zero\n",
      "2022-03-04 16:15:58.807742: I tensorflow/core/platform/cpu_feature_guard.cc:142] This TensorFlow binary is optimized with oneAPI Deep Neural Network Library (oneDNN) to use the following CPU instructions in performance-critical operations:  AVX2 AVX512F FMA\n",
      "To enable them in other operations, rebuild TensorFlow with the appropriate compiler flags.\n",
      "2022-03-04 16:15:58.811290: I tensorflow/stream_executor/cuda/cuda_gpu_executor.cc:937] successful NUMA node read from SysFS had negative value (-1), but there must be at least one NUMA node, so returning NUMA node zero\n",
      "2022-03-04 16:15:58.811950: I tensorflow/stream_executor/cuda/cuda_gpu_executor.cc:937] successful NUMA node read from SysFS had negative value (-1), but there must be at least one NUMA node, so returning NUMA node zero\n",
      "2022-03-04 16:15:58.812635: I tensorflow/stream_executor/cuda/cuda_gpu_executor.cc:937] successful NUMA node read from SysFS had negative value (-1), but there must be at least one NUMA node, so returning NUMA node zero\n",
      "2022-03-04 16:16:00.694539: I tensorflow/stream_executor/cuda/cuda_gpu_executor.cc:937] successful NUMA node read from SysFS had negative value (-1), but there must be at least one NUMA node, so returning NUMA node zero\n",
      "2022-03-04 16:16:00.695302: I tensorflow/stream_executor/cuda/cuda_gpu_executor.cc:937] successful NUMA node read from SysFS had negative value (-1), but there must be at least one NUMA node, so returning NUMA node zero\n",
      "2022-03-04 16:16:00.695975: I tensorflow/stream_executor/cuda/cuda_gpu_executor.cc:937] successful NUMA node read from SysFS had negative value (-1), but there must be at least one NUMA node, so returning NUMA node zero\n",
      "2022-03-04 16:16:00.696581: I tensorflow/core/common_runtime/gpu/gpu_device.cc:1510] Created device /job:localhost/replica:0/task:0/device:GPU:0 with 15403 MB memory:  -> device: 0, name: Tesla P100-PCIE-16GB, pci bus id: 0000:00:04.0, compute capability: 6.0\n",
      "2022-03-04 16:16:01.510922: I tensorflow/compiler/mlir/mlir_graph_optimization_pass.cc:185] None of the MLIR Optimization Passes are enabled (registered 2)\n"
     ]
    },
    {
     "name": "stdout",
     "output_type": "stream",
     "text": [
      "Epoch 1/20\n",
      "1875/1875 [==============================] - 5s 2ms/step - loss: 0.8695 - accuracy: 0.7159 - val_loss: 0.6042 - val_accuracy: 0.8180\n",
      "Epoch 2/20\n",
      "1875/1875 [==============================] - 4s 2ms/step - loss: 0.5508 - accuracy: 0.8389 - val_loss: 0.5158 - val_accuracy: 0.8572\n",
      "Epoch 3/20\n",
      "1875/1875 [==============================] - 4s 2ms/step - loss: 0.4725 - accuracy: 0.8659 - val_loss: 0.4455 - val_accuracy: 0.8769\n",
      "Epoch 4/20\n",
      "1875/1875 [==============================] - 4s 2ms/step - loss: 0.4261 - accuracy: 0.8800 - val_loss: 0.4213 - val_accuracy: 0.8849\n",
      "Epoch 5/20\n",
      "1875/1875 [==============================] - 4s 2ms/step - loss: 0.3940 - accuracy: 0.8888 - val_loss: 0.4078 - val_accuracy: 0.8879\n",
      "Epoch 6/20\n",
      "1875/1875 [==============================] - 4s 2ms/step - loss: 0.3704 - accuracy: 0.8950 - val_loss: 0.3810 - val_accuracy: 0.8926\n",
      "Epoch 7/20\n",
      "1875/1875 [==============================] - 4s 2ms/step - loss: 0.3531 - accuracy: 0.8989 - val_loss: 0.3796 - val_accuracy: 0.8933\n",
      "Epoch 8/20\n",
      "1875/1875 [==============================] - 4s 2ms/step - loss: 0.3401 - accuracy: 0.9029 - val_loss: 0.3619 - val_accuracy: 0.8978\n",
      "Epoch 9/20\n",
      "1875/1875 [==============================] - 4s 2ms/step - loss: 0.3291 - accuracy: 0.9056 - val_loss: 0.3491 - val_accuracy: 0.9027\n",
      "Epoch 10/20\n",
      "1875/1875 [==============================] - 4s 2ms/step - loss: 0.3217 - accuracy: 0.9076 - val_loss: 0.3406 - val_accuracy: 0.9067\n",
      "Epoch 11/20\n",
      "1875/1875 [==============================] - 4s 2ms/step - loss: 0.3151 - accuracy: 0.9092 - val_loss: 0.3449 - val_accuracy: 0.9043\n",
      "Epoch 12/20\n",
      "1875/1875 [==============================] - 4s 2ms/step - loss: 0.3097 - accuracy: 0.9107 - val_loss: 0.3424 - val_accuracy: 0.9050\n",
      "Epoch 13/20\n",
      "1875/1875 [==============================] - 4s 2ms/step - loss: 0.3056 - accuracy: 0.9116 - val_loss: 0.3340 - val_accuracy: 0.9068\n",
      "Epoch 14/20\n",
      "1875/1875 [==============================] - 4s 2ms/step - loss: 0.3006 - accuracy: 0.9122 - val_loss: 0.3375 - val_accuracy: 0.9064\n",
      "Epoch 15/20\n",
      "1875/1875 [==============================] - 4s 2ms/step - loss: 0.2975 - accuracy: 0.9148 - val_loss: 0.3339 - val_accuracy: 0.9079\n",
      "Epoch 16/20\n",
      "1875/1875 [==============================] - 4s 2ms/step - loss: 0.2941 - accuracy: 0.9145 - val_loss: 0.3371 - val_accuracy: 0.9085\n",
      "Epoch 17/20\n",
      "1875/1875 [==============================] - 4s 2ms/step - loss: 0.2919 - accuracy: 0.9155 - val_loss: 0.3269 - val_accuracy: 0.9119\n",
      "Epoch 18/20\n",
      "1875/1875 [==============================] - 4s 2ms/step - loss: 0.2877 - accuracy: 0.9172 - val_loss: 0.3329 - val_accuracy: 0.9082\n",
      "Epoch 19/20\n",
      "1875/1875 [==============================] - 4s 2ms/step - loss: 0.2855 - accuracy: 0.9175 - val_loss: 0.3243 - val_accuracy: 0.9134\n",
      "Epoch 20/20\n",
      "1875/1875 [==============================] - 4s 2ms/step - loss: 0.2828 - accuracy: 0.9171 - val_loss: 0.3216 - val_accuracy: 0.9144\n"
     ]
    }
   ],
   "source": [
    "tf.random.set_seed(42)\n",
    "# initial model\n",
    "model = tf.keras.Sequential()\n",
    "# creat a flatten layer\n",
    "model.add(tf.keras.layers.Flatten(input_shape=(28, 28)))\n",
    "# adding layers, first layer 8 units, second one 4 units and relu activation function\n",
    "model.add(tf.keras.layers.Dense(8, activation='relu'))\n",
    "model.add(tf.keras.layers.Dense(4, activation='relu'))\n",
    "# output layer, with shape of 10(output shape) and softmax activation function\n",
    "model.add(tf.keras.layers.Dense(10, activation='softmax'))\n",
    "\n",
    "# compile the model, with Adam optimizer, SparaseCategoricalCrossentrpy(because labels aren't in one-hot encoding)\n",
    "model.compile(\n",
    "    optimizer=tf.keras.optimizers.Adam(),\n",
    "    loss=tf.keras.losses.SparseCategoricalCrossentropy(),\n",
    "    metrics=['accuracy']\n",
    ")\n",
    "\n",
    "# fit the model, with 20 epochs\n",
    "history = model.fit(X_train, y_train, epochs=20, validation_data=(X_test, y_test))"
   ]
  },
  {
   "cell_type": "markdown",
   "metadata": {},
   "source": [
    "### 91% accuracy"
   ]
  },
  {
   "cell_type": "markdown",
   "metadata": {},
   "source": [
    "#### summary of the model"
   ]
  },
  {
   "cell_type": "code",
   "execution_count": 12,
   "metadata": {
    "execution": {
     "iopub.execute_input": "2022-03-04T16:17:23.901011Z",
     "iopub.status.busy": "2022-03-04T16:17:23.900758Z",
     "iopub.status.idle": "2022-03-04T16:17:23.914093Z",
     "shell.execute_reply": "2022-03-04T16:17:23.913403Z",
     "shell.execute_reply.started": "2022-03-04T16:17:23.900978Z"
    }
   },
   "outputs": [
    {
     "name": "stdout",
     "output_type": "stream",
     "text": [
      "Model: \"sequential\"\n",
      "_________________________________________________________________\n",
      "Layer (type)                 Output Shape              Param #   \n",
      "=================================================================\n",
      "flatten (Flatten)            (None, 784)               0         \n",
      "_________________________________________________________________\n",
      "dense (Dense)                (None, 8)                 6280      \n",
      "_________________________________________________________________\n",
      "dense_1 (Dense)              (None, 4)                 36        \n",
      "_________________________________________________________________\n",
      "dense_2 (Dense)              (None, 10)                50        \n",
      "=================================================================\n",
      "Total params: 6,366\n",
      "Trainable params: 6,366\n",
      "Non-trainable params: 0\n",
      "_________________________________________________________________\n"
     ]
    }
   ],
   "source": [
    "model.summary()"
   ]
  },
  {
   "cell_type": "markdown",
   "metadata": {},
   "source": [
    "#### plot our model"
   ]
  },
  {
   "cell_type": "code",
   "execution_count": 13,
   "metadata": {
    "execution": {
     "iopub.execute_input": "2022-03-04T16:17:23.921815Z",
     "iopub.status.busy": "2022-03-04T16:17:23.921145Z",
     "iopub.status.idle": "2022-03-04T16:17:24.748723Z",
     "shell.execute_reply": "2022-03-04T16:17:24.747904Z",
     "shell.execute_reply.started": "2022-03-04T16:17:23.921774Z"
    }
   },
   "outputs": [
    {
     "data": {
      "image/png": "[encoded data removed]",
      "text/plain": [
       "<IPython.core.display.Image object>"
      ]
     },
     "execution_count": 13,
     "metadata": {},
     "output_type": "execute_result"
    }
   ],
   "source": [
    "from tensorflow.keras.utils import plot_model\n",
    "plot_model(model, show_shapes=True)"
   ]
  },
  {
   "cell_type": "markdown",
   "metadata": {},
   "source": [
    "# better understanding the training phase, plotting loss, accuracy"
   ]
  },
  {
   "cell_type": "code",
   "execution_count": 14,
   "metadata": {
    "execution": {
     "iopub.execute_input": "2022-03-04T16:17:24.751041Z",
     "iopub.status.busy": "2022-03-04T16:17:24.750554Z",
     "iopub.status.idle": "2022-03-04T16:17:24.774056Z",
     "shell.execute_reply": "2022-03-04T16:17:24.773286Z",
     "shell.execute_reply.started": "2022-03-04T16:17:24.750997Z"
    }
   },
   "outputs": [
    {
     "data": {
      "text/html": [
       "<div>\n",
       "<style scoped>\n",
       "    .dataframe tbody tr th:only-of-type {\n",
       "        vertical-align: middle;\n",
       "    }\n",
       "\n",
       "    .dataframe tbody tr th {\n",
       "        vertical-align: top;\n",
       "    }\n",
       "\n",
       "    .dataframe thead th {\n",
       "        text-align: right;\n",
       "    }\n",
       "</style>\n",
       "<table border=\"1\" class=\"dataframe\">\n",
       "  <thead>\n",
       "    <tr style=\"text-align: right;\">\n",
       "      <th></th>\n",
       "      <th>loss</th>\n",
       "      <th>accuracy</th>\n",
       "      <th>val_loss</th>\n",
       "      <th>val_accuracy</th>\n",
       "    </tr>\n",
       "  </thead>\n",
       "  <tbody>\n",
       "    <tr>\n",
       "      <th>0</th>\n",
       "      <td>0.869517</td>\n",
       "      <td>0.715933</td>\n",
       "      <td>0.604176</td>\n",
       "      <td>0.8180</td>\n",
       "    </tr>\n",
       "    <tr>\n",
       "      <th>1</th>\n",
       "      <td>0.550759</td>\n",
       "      <td>0.838883</td>\n",
       "      <td>0.515783</td>\n",
       "      <td>0.8572</td>\n",
       "    </tr>\n",
       "    <tr>\n",
       "      <th>2</th>\n",
       "      <td>0.472526</td>\n",
       "      <td>0.865950</td>\n",
       "      <td>0.445456</td>\n",
       "      <td>0.8769</td>\n",
       "    </tr>\n",
       "    <tr>\n",
       "      <th>3</th>\n",
       "      <td>0.426134</td>\n",
       "      <td>0.880017</td>\n",
       "      <td>0.421271</td>\n",
       "      <td>0.8849</td>\n",
       "    </tr>\n",
       "    <tr>\n",
       "      <th>4</th>\n",
       "      <td>0.393972</td>\n",
       "      <td>0.888850</td>\n",
       "      <td>0.407787</td>\n",
       "      <td>0.8879</td>\n",
       "    </tr>\n",
       "    <tr>\n",
       "      <th>5</th>\n",
       "      <td>0.370354</td>\n",
       "      <td>0.895017</td>\n",
       "      <td>0.380963</td>\n",
       "      <td>0.8926</td>\n",
       "    </tr>\n",
       "    <tr>\n",
       "      <th>6</th>\n",
       "      <td>0.353143</td>\n",
       "      <td>0.898867</td>\n",
       "      <td>0.379617</td>\n",
       "      <td>0.8933</td>\n",
       "    </tr>\n",
       "    <tr>\n",
       "      <th>7</th>\n",
       "      <td>0.340078</td>\n",
       "      <td>0.902933</td>\n",
       "      <td>0.361882</td>\n",
       "      <td>0.8978</td>\n",
       "    </tr>\n",
       "    <tr>\n",
       "      <th>8</th>\n",
       "      <td>0.329108</td>\n",
       "      <td>0.905583</td>\n",
       "      <td>0.349133</td>\n",
       "      <td>0.9027</td>\n",
       "    </tr>\n",
       "    <tr>\n",
       "      <th>9</th>\n",
       "      <td>0.321651</td>\n",
       "      <td>0.907567</td>\n",
       "      <td>0.340573</td>\n",
       "      <td>0.9067</td>\n",
       "    </tr>\n",
       "    <tr>\n",
       "      <th>10</th>\n",
       "      <td>0.315105</td>\n",
       "      <td>0.909150</td>\n",
       "      <td>0.344937</td>\n",
       "      <td>0.9043</td>\n",
       "    </tr>\n",
       "    <tr>\n",
       "      <th>11</th>\n",
       "      <td>0.309696</td>\n",
       "      <td>0.910667</td>\n",
       "      <td>0.342426</td>\n",
       "      <td>0.9050</td>\n",
       "    </tr>\n",
       "    <tr>\n",
       "      <th>12</th>\n",
       "      <td>0.305573</td>\n",
       "      <td>0.911567</td>\n",
       "      <td>0.334018</td>\n",
       "      <td>0.9068</td>\n",
       "    </tr>\n",
       "    <tr>\n",
       "      <th>13</th>\n",
       "      <td>0.300603</td>\n",
       "      <td>0.912217</td>\n",
       "      <td>0.337450</td>\n",
       "      <td>0.9064</td>\n",
       "    </tr>\n",
       "    <tr>\n",
       "      <th>14</th>\n",
       "      <td>0.297538</td>\n",
       "      <td>0.914817</td>\n",
       "      <td>0.333855</td>\n",
       "      <td>0.9079</td>\n",
       "    </tr>\n",
       "    <tr>\n",
       "      <th>15</th>\n",
       "      <td>0.294070</td>\n",
       "      <td>0.914483</td>\n",
       "      <td>0.337117</td>\n",
       "      <td>0.9085</td>\n",
       "    </tr>\n",
       "    <tr>\n",
       "      <th>16</th>\n",
       "      <td>0.291862</td>\n",
       "      <td>0.915517</td>\n",
       "      <td>0.326945</td>\n",
       "      <td>0.9119</td>\n",
       "    </tr>\n",
       "    <tr>\n",
       "      <th>17</th>\n",
       "      <td>0.287735</td>\n",
       "      <td>0.917200</td>\n",
       "      <td>0.332898</td>\n",
       "      <td>0.9082</td>\n",
       "    </tr>\n",
       "    <tr>\n",
       "      <th>18</th>\n",
       "      <td>0.285519</td>\n",
       "      <td>0.917467</td>\n",
       "      <td>0.324274</td>\n",
       "      <td>0.9134</td>\n",
       "    </tr>\n",
       "    <tr>\n",
       "      <th>19</th>\n",
       "      <td>0.282848</td>\n",
       "      <td>0.917100</td>\n",
       "      <td>0.321614</td>\n",
       "      <td>0.9144</td>\n",
       "    </tr>\n",
       "  </tbody>\n",
       "</table>\n",
       "</div>"
      ],
      "text/plain": [
       "        loss  accuracy  val_loss  val_accuracy\n",
       "0   0.869517  0.715933  0.604176        0.8180\n",
       "1   0.550759  0.838883  0.515783        0.8572\n",
       "2   0.472526  0.865950  0.445456        0.8769\n",
       "3   0.426134  0.880017  0.421271        0.8849\n",
       "4   0.393972  0.888850  0.407787        0.8879\n",
       "5   0.370354  0.895017  0.380963        0.8926\n",
       "6   0.353143  0.898867  0.379617        0.8933\n",
       "7   0.340078  0.902933  0.361882        0.8978\n",
       "8   0.329108  0.905583  0.349133        0.9027\n",
       "9   0.321651  0.907567  0.340573        0.9067\n",
       "10  0.315105  0.909150  0.344937        0.9043\n",
       "11  0.309696  0.910667  0.342426        0.9050\n",
       "12  0.305573  0.911567  0.334018        0.9068\n",
       "13  0.300603  0.912217  0.337450        0.9064\n",
       "14  0.297538  0.914817  0.333855        0.9079\n",
       "15  0.294070  0.914483  0.337117        0.9085\n",
       "16  0.291862  0.915517  0.326945        0.9119\n",
       "17  0.287735  0.917200  0.332898        0.9082\n",
       "18  0.285519  0.917467  0.324274        0.9134\n",
       "19  0.282848  0.917100  0.321614        0.9144"
      ]
     },
     "execution_count": 14,
     "metadata": {},
     "output_type": "execute_result"
    }
   ],
   "source": [
    "history_dataframe = pd.DataFrame(history.history)\n",
    "history_dataframe"
   ]
  },
  {
   "cell_type": "code",
   "execution_count": 15,
   "metadata": {
    "execution": {
     "iopub.execute_input": "2022-03-04T16:17:24.775734Z",
     "iopub.status.busy": "2022-03-04T16:17:24.775477Z",
     "iopub.status.idle": "2022-03-04T16:17:25.036209Z",
     "shell.execute_reply": "2022-03-04T16:17:25.035586Z",
     "shell.execute_reply.started": "2022-03-04T16:17:24.775699Z"
    }
   },
   "outputs": [
    {
     "data": {
      "text/plain": [
       "<AxesSubplot:>"
      ]
     },
     "execution_count": 15,
     "metadata": {},
     "output_type": "execute_result"
    },
    {
     "data": {
      "image/png": "[encoded data removed]",
      "text/plain": [
       "<Figure size 432x288 with 1 Axes>"
      ]
     },
     "metadata": {
      "needs_background": "light"
     },
     "output_type": "display_data"
    }
   ],
   "source": [
    "history_dataframe.plot()"
   ]
  },
  {
   "cell_type": "code",
   "execution_count": 16,
   "metadata": {
    "execution": {
     "iopub.execute_input": "2022-03-04T16:17:25.037368Z",
     "iopub.status.busy": "2022-03-04T16:17:25.037132Z",
     "iopub.status.idle": "2022-03-04T16:17:25.221397Z",
     "shell.execute_reply": "2022-03-04T16:17:25.220766Z",
     "shell.execute_reply.started": "2022-03-04T16:17:25.037335Z"
    }
   },
   "outputs": [
    {
     "data": {
      "text/plain": [
       "Text(0, 0.5, 'test loss')"
      ]
     },
     "execution_count": 16,
     "metadata": {},
     "output_type": "execute_result"
    },
    {
     "data": {
      "image/png": "[encoded data removed]",
      "text/plain": [
       "<Figure size 432x288 with 1 Axes>"
      ]
     },
     "metadata": {
      "needs_background": "light"
     },
     "output_type": "display_data"
    }
   ],
   "source": [
    "plt.plot(history.history['loss'], history.history['val_loss'])\n",
    "plt.xlabel('train loss')\n",
    "plt.ylabel('test loss')"
   ]
  },
  {
   "cell_type": "markdown",
   "metadata": {},
   "source": [
    "# Starting Evaluating phase"
   ]
  },
  {
   "cell_type": "code",
   "execution_count": 17,
   "metadata": {
    "execution": {
     "iopub.execute_input": "2022-03-04T16:17:25.222848Z",
     "iopub.status.busy": "2022-03-04T16:17:25.222623Z",
     "iopub.status.idle": "2022-03-04T16:17:25.642684Z",
     "shell.execute_reply": "2022-03-04T16:17:25.641928Z",
     "shell.execute_reply.started": "2022-03-04T16:17:25.222817Z"
    }
   },
   "outputs": [],
   "source": [
    "y_preds = model.predict(X_test)"
   ]
  },
  {
   "cell_type": "code",
   "execution_count": 18,
   "metadata": {
    "execution": {
     "iopub.execute_input": "2022-03-04T16:17:25.644037Z",
     "iopub.status.busy": "2022-03-04T16:17:25.643806Z",
     "iopub.status.idle": "2022-03-04T16:17:25.649746Z",
     "shell.execute_reply": "2022-03-04T16:17:25.649113Z",
     "shell.execute_reply.started": "2022-03-04T16:17:25.644004Z"
    }
   },
   "outputs": [
    {
     "data": {
      "text/plain": [
       "(10000, 10)"
      ]
     },
     "execution_count": 18,
     "metadata": {},
     "output_type": "execute_result"
    }
   ],
   "source": [
    "y_preds.shape"
   ]
  },
  {
   "cell_type": "code",
   "execution_count": 19,
   "metadata": {
    "execution": {
     "iopub.execute_input": "2022-03-04T16:17:25.651743Z",
     "iopub.status.busy": "2022-03-04T16:17:25.651108Z",
     "iopub.status.idle": "2022-03-04T16:17:25.662084Z",
     "shell.execute_reply": "2022-03-04T16:17:25.661135Z",
     "shell.execute_reply.started": "2022-03-04T16:17:25.651703Z"
    }
   },
   "outputs": [
    {
     "data": {
      "text/plain": [
       "array([[7.9214762e-22, 1.2754983e-11, 1.2972031e-05, 1.2940611e-03,\n",
       "        1.0186928e-10, 2.9141118e-09, 7.8515760e-18, 9.9868971e-01,\n",
       "        1.2452443e-06, 1.9552253e-06],\n",
       "       [8.7499057e-11, 2.3538940e-05, 9.5166218e-01, 2.2080673e-03,\n",
       "        2.5367222e-10, 3.5542589e-02, 7.7590063e-05, 6.8387121e-16,\n",
       "        1.0486174e-02, 1.8053726e-15],\n",
       "       [3.0599586e-03, 9.8221141e-01, 1.0961028e-03, 1.2115546e-03,\n",
       "        1.4285912e-03, 4.3025375e-03, 1.8377400e-03, 1.0030348e-03,\n",
       "        1.6091942e-03, 2.2396916e-03]], dtype=float32)"
      ]
     },
     "execution_count": 19,
     "metadata": {},
     "output_type": "execute_result"
    }
   ],
   "source": [
    "y_preds[:3]"
   ]
  },
  {
   "cell_type": "markdown",
   "metadata": {},
   "source": []
  },
  {
   "cell_type": "code",
   "execution_count": 20,
   "metadata": {
    "execution": {
     "iopub.execute_input": "2022-03-04T16:17:25.664128Z",
     "iopub.status.busy": "2022-03-04T16:17:25.663694Z",
     "iopub.status.idle": "2022-03-04T16:17:27.239092Z",
     "shell.execute_reply": "2022-03-04T16:17:27.238393Z",
     "shell.execute_reply.started": "2022-03-04T16:17:25.664091Z"
    }
   },
   "outputs": [],
   "source": [
    "y_preds_labels = [tf.argmax(y_preds[i]) for i in range(len(y_preds))]"
   ]
  },
  {
   "cell_type": "code",
   "execution_count": 21,
   "metadata": {
    "execution": {
     "iopub.execute_input": "2022-03-04T16:17:27.240678Z",
     "iopub.status.busy": "2022-03-04T16:17:27.240444Z",
     "iopub.status.idle": "2022-03-04T16:17:27.248624Z",
     "shell.execute_reply": "2022-03-04T16:17:27.247802Z",
     "shell.execute_reply.started": "2022-03-04T16:17:27.240645Z"
    }
   },
   "outputs": [
    {
     "data": {
      "text/plain": [
       "[<tf.Tensor: shape=(), dtype=int64, numpy=7>,\n",
       " <tf.Tensor: shape=(), dtype=int64, numpy=2>,\n",
       " <tf.Tensor: shape=(), dtype=int64, numpy=1>,\n",
       " <tf.Tensor: shape=(), dtype=int64, numpy=0>,\n",
       " <tf.Tensor: shape=(), dtype=int64, numpy=4>]"
      ]
     },
     "execution_count": 21,
     "metadata": {},
     "output_type": "execute_result"
    }
   ],
   "source": [
    "y_preds_labels[:5]"
   ]
  },
  {
   "cell_type": "markdown",
   "metadata": {},
   "source": [
    "## Evaluating The Model"
   ]
  },
  {
   "cell_type": "markdown",
   "metadata": {},
   "source": [
    "### make confusion matrix code directly copied from github"
   ]
  },
  {
   "cell_type": "code",
   "execution_count": 22,
   "metadata": {
    "execution": {
     "iopub.execute_input": "2022-03-04T16:17:27.250425Z",
     "iopub.status.busy": "2022-03-04T16:17:27.250114Z",
     "iopub.status.idle": "2022-03-04T16:17:28.021577Z",
     "shell.execute_reply": "2022-03-04T16:17:28.020884Z",
     "shell.execute_reply.started": "2022-03-04T16:17:27.250384Z"
    }
   },
   "outputs": [],
   "source": [
    "# Note: The following confusion matrix code is a remix of Scikit-Learn's \n",
    "# plot_confusion_matrix function - https://scikit-learn.org/stable/modules/generated/sklearn.metrics.plot_confusion_matrix.html\n",
    "# and Made with ML's introductory notebook - https://github.com/GokuMohandas/MadeWithML/blob/main/notebooks/08_Neural_Networks.ipynb\n",
    "import itertools\n",
    "from sklearn.metrics import confusion_matrix\n",
    "\n",
    "# Our function needs a different name to sklearn's plot_confusion_matrix\n",
    "def make_confusion_matrix(y_true, y_pred, classes=None, figsize=(10, 10), text_size=15): \n",
    "  \"\"\"Makes a labelled confusion matrix comparing predictions and ground truth labels.\n",
    "\n",
    "  If classes is passed, confusion matrix will be labelled, if not, integer class values\n",
    "  will be used.\n",
    "\n",
    "  Args:\n",
    "    y_true: Array of truth labels (must be same shape as y_pred).\n",
    "    y_pred: Array of predicted labels (must be same shape as y_true).\n",
    "    classes: Array of class labels (e.g. string form). If `None`, integer labels are used.\n",
    "    figsize: Size of output figure (default=(10, 10)).\n",
    "    text_size: Size of output figure text (default=15).\n",
    "  \n",
    "  Returns:\n",
    "    A labelled confusion matrix plot comparing y_true and y_pred.\n",
    "\n",
    "  Example usage:\n",
    "    make_confusion_matrix(y_true=test_labels, # ground truth test labels\n",
    "                          y_pred=y_preds, # predicted labels\n",
    "                          classes=class_names, # array of class label names\n",
    "                          figsize=(15, 15),\n",
    "                          text_size=10)\n",
    "  \"\"\"  \n",
    "  # Create the confustion matrix\n",
    "  cm = confusion_matrix(y_true, y_pred)\n",
    "  cm_norm = cm.astype(\"float\") / cm.sum(axis=1)[:, np.newaxis] # normalize it\n",
    "  n_classes = cm.shape[0] # find the number of classes we're dealing with\n",
    "\n",
    "  # Plot the figure and make it pretty\n",
    "  fig, ax = plt.subplots(figsize=figsize)\n",
    "  cax = ax.matshow(cm, cmap=plt.cm.Blues) # colors will represent how 'correct' a class is, darker == better\n",
    "  fig.colorbar(cax)\n",
    "\n",
    "  # Are there a list of classes?\n",
    "  if classes:\n",
    "    labels = classes\n",
    "  else:\n",
    "    labels = np.arange(cm.shape[0])\n",
    "  \n",
    "  # Label the axes\n",
    "  ax.set(title=\"Confusion Matrix\",\n",
    "         xlabel=\"Predicted label\",\n",
    "         ylabel=\"True label\",\n",
    "         xticks=np.arange(n_classes), # create enough axis slots for each class\n",
    "         yticks=np.arange(n_classes), \n",
    "         xticklabels=labels, # axes will labeled with class names (if they exist) or ints\n",
    "         yticklabels=labels)\n",
    "  \n",
    "  # Make x-axis labels appear on bottom\n",
    "  ax.xaxis.set_label_position(\"bottom\")\n",
    "  ax.xaxis.tick_bottom()\n",
    "\n",
    "  # Set the threshold for different colors\n",
    "  threshold = (cm.max() + cm.min()) / 2.\n",
    "\n",
    "  # Plot the text on each cell\n",
    "  for i, j in itertools.product(range(cm.shape[0]), range(cm.shape[1])):\n",
    "    plt.text(j, i, f\"{cm[i, j]} ({cm_norm[i, j]*100:.1f}%)\",\n",
    "             horizontalalignment=\"center\",\n",
    "             color=\"white\" if cm[i, j] > threshold else \"black\",\n",
    "             size=text_size)\n"
   ]
  },
  {
   "cell_type": "markdown",
   "metadata": {},
   "source": [
    "# confusion matrix"
   ]
  },
  {
   "cell_type": "code",
   "execution_count": 23,
   "metadata": {
    "execution": {
     "iopub.execute_input": "2022-03-04T16:17:28.023185Z",
     "iopub.status.busy": "2022-03-04T16:17:28.022849Z",
     "iopub.status.idle": "2022-03-04T16:17:28.632698Z",
     "shell.execute_reply": "2022-03-04T16:17:28.632069Z",
     "shell.execute_reply.started": "2022-03-04T16:17:28.023146Z"
    }
   },
   "outputs": [
    {
     "data": {
      "text/plain": [
       "array([[ 927,    3,    2,    0,    1,    8,   12,    1,   19,    7],\n",
       "       [   1, 1108,    3,    5,    1,    7,    1,    0,    9,    0],\n",
       "       [   1,    8,  939,   28,    7,    7,    8,   14,   20,    0],\n",
       "       [   0,    5,   32,  897,    0,   49,    1,   16,   10,    0],\n",
       "       [   2,    2,    3,    0,  900,    0,   10,    1,   24,   40],\n",
       "       [   6,   23,    5,   46,    1,  728,    6,    2,   67,    8],\n",
       "       [  21,   12,    3,    0,   12,    3,  893,    0,   14,    0],\n",
       "       [   1,   10,   11,   12,    3,    0,    0,  968,    0,   23],\n",
       "       [   6,   10,   11,   12,    8,   27,    4,   12,  870,   14],\n",
       "       [   4,    8,    0,    4,   39,    7,    1,   24,    8,  914]])"
      ]
     },
     "execution_count": 23,
     "metadata": {},
     "output_type": "execute_result"
    }
   ],
   "source": [
    "from sklearn.metrics import confusion_matrix\n",
    "confusion_matrix(y_test, y_preds_labels)"
   ]
  },
  {
   "cell_type": "markdown",
   "metadata": {},
   "source": [
    "### classification report contains:\n",
    "* precision\n",
    "* recall\n",
    "* f1-score\n",
    "* accuracy"
   ]
  },
  {
   "cell_type": "code",
   "execution_count": 24,
   "metadata": {
    "execution": {
     "iopub.execute_input": "2022-03-04T16:17:28.634260Z",
     "iopub.status.busy": "2022-03-04T16:17:28.633994Z",
     "iopub.status.idle": "2022-03-04T16:17:28.790917Z",
     "shell.execute_reply": "2022-03-04T16:17:28.790105Z",
     "shell.execute_reply.started": "2022-03-04T16:17:28.634212Z"
    }
   },
   "outputs": [
    {
     "name": "stdout",
     "output_type": "stream",
     "text": [
      "              precision    recall  f1-score   support\n",
      "\n",
      "           0       0.96      0.95      0.95       980\n",
      "           1       0.93      0.98      0.95      1135\n",
      "           2       0.93      0.91      0.92      1032\n",
      "           3       0.89      0.89      0.89      1010\n",
      "           4       0.93      0.92      0.92       982\n",
      "           5       0.87      0.82      0.84       892\n",
      "           6       0.95      0.93      0.94       958\n",
      "           7       0.93      0.94      0.94      1028\n",
      "           8       0.84      0.89      0.86       974\n",
      "           9       0.91      0.91      0.91      1009\n",
      "\n",
      "    accuracy                           0.91     10000\n",
      "   macro avg       0.91      0.91      0.91     10000\n",
      "weighted avg       0.91      0.91      0.91     10000\n",
      "\n"
     ]
    }
   ],
   "source": [
    "from sklearn.metrics import classification_report\n",
    "print(classification_report(y_test, y_preds_labels))"
   ]
  },
  {
   "cell_type": "code",
   "execution_count": 25,
   "metadata": {
    "execution": {
     "iopub.execute_input": "2022-03-04T16:17:28.792679Z",
     "iopub.status.busy": "2022-03-04T16:17:28.792425Z",
     "iopub.status.idle": "2022-03-04T16:17:29.743721Z",
     "shell.execute_reply": "2022-03-04T16:17:29.743027Z",
     "shell.execute_reply.started": "2022-03-04T16:17:28.792643Z"
    }
   },
   "outputs": [
    {
     "data": {
      "image/png": "[encoded data removed]",
      "text/plain": [
       "<Figure size 1080x1080 with 2 Axes>"
      ]
     },
     "metadata": {
      "needs_background": "light"
     },
     "output_type": "display_data"
    }
   ],
   "source": [
    "make_confusion_matrix(y_true=y_test, \n",
    "                      y_pred=y_preds_labels,\n",
    "                      figsize=(15, 15),\n",
    "                      text_size=10)"
   ]
  },
  {
   "cell_type": "markdown",
   "metadata": {},
   "source": [
    "# showing some images, with labels and prediction\n",
    "### if prediction is correct, it shows it in green, and if it's wrong, it shows it in red"
   ]
  },
  {
   "cell_type": "code",
   "execution_count": 30,
   "metadata": {
    "execution": {
     "iopub.execute_input": "2022-03-04T16:18:13.345017Z",
     "iopub.status.busy": "2022-03-04T16:18:13.344281Z",
     "iopub.status.idle": "2022-03-04T16:18:13.697694Z",
     "shell.execute_reply": "2022-03-04T16:18:13.697035Z",
     "shell.execute_reply.started": "2022-03-04T16:18:13.344976Z"
    }
   },
   "outputs": [
    {
     "data": {
      "image/png": "[encoded data removed]",
      "text/plain": [
       "<Figure size 720x576 with 8 Axes>"
      ]
     },
     "metadata": {
      "needs_background": "light"
     },
     "output_type": "display_data"
    }
   ],
   "source": [
    "plt.figure(figsize=(10, 8))\n",
    "for i in range(0, 8):\n",
    "    plt.subplot(4, 4, i+1)\n",
    "    random_2 = random.randint(0, 400)\n",
    "    plt.imshow(X_test[random_2], cmap=plt.cm.binary)\n",
    "    plt.axis(False)\n",
    "    if (y_preds_labels[random_2] == y_test[random_2]):\n",
    "        plt.title('prediction is {}, correct.'.format(y_preds_labels[random_2]), color='green')\n",
    "    else:\n",
    "        plt.title('prediction is {}, wrong.\\nreal value is {}'.format(y_preds_labels[random_2], y_test[random_2]), color='red')"
   ]
  },
  {
   "cell_type": "markdown",
   "metadata": {},
   "source": [
    "## one wrong, 7 correct, really good performance!"
   ]
  }
 ],
 "metadata": {
  "kernelspec": {
   "display_name": "Python 3 (ipykernel)",
   "language": "python",
   "name": "python3"
  },
  "language_info": {
   "codemirror_mode": {
    "name": "ipython",
    "version": 3
   },
   "file_extension": ".py",
   "mimetype": "text/x-python",
   "name": "python",
   "nbconvert_exporter": "python",
   "pygments_lexer": "ipython3",
   "version": "3.10.9"
  }
 },
 "nbformat": 4,
 "nbformat_minor": 4
}
